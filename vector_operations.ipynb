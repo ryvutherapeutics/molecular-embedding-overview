{
 "cells": [
  {
   "cell_type": "code",
   "execution_count": 2,
   "id": "2ee30fb7-5e06-40ab-a80e-29695a4484a3",
   "metadata": {},
   "outputs": [],
   "source": [
    "import numpy as np\n",
    "import pandas as pd\n",
    "import seaborn as sns\n",
    "from sklearn.metrics.pairwise import pairwise_distances\n",
    "import pickle\n",
    "import faiss\n",
    "import rdkit\n",
    "from rdkit import Chem\n",
    "from rdkit.Chem import Draw\n",
    "from rdkit.Chem.Draw import MolsToGridImage\n",
    "from rdkit.Chem import rdFingerprintGenerator as rdGen\n",
    "from rdkit import DataStructs\n",
    "from rdkit.Chem import PandasTools, Draw\n",
    "from rdkit.ML.Cluster import Butina\n",
    "from rdkit.Chem import rdMolDescriptors as rdmd\n",
    "from rdkit.Chem import Descriptors\n",
    "import warnings\n",
    "warnings.filterwarnings(\"ignore\")"
   ]
  },
  {
   "cell_type": "code",
   "execution_count": 32,
   "id": "9bf2967f-8b8b-453d-a093-b9a361096a49",
   "metadata": {},
   "outputs": [],
   "source": [
    "embedding_distance = [\n",
    "    (\"cddd\", \"euclidean\", faiss.IndexFlatL2),\n",
    "    (\"cddd\", \"euclidean\", faiss.IndexFlatIP),\n",
    "    (\"molformer\", \"euclidean\", faiss.IndexFlatL2),\n",
    "    (\"molformer\", \"euclidean\", faiss.IndexFlatIP),\n",
    "    (\"macaw\", \"euclidean\", faiss.IndexFlatIP),\n",
    "    # (\"mol2vec\", \"euclidean\", faiss.IndexFlatIP),\n",
    "]"
   ]
  },
  {
   "cell_type": "code",
   "execution_count": 15,
   "id": "e17d88be-dbb1-4a8e-956c-11bb50e1962b",
   "metadata": {},
   "outputs": [
    {
     "name": "stdout",
     "output_type": "stream",
     "text": [
      "(10381,)\n"
     ]
    }
   ],
   "source": [
    "smiles_list = np.genfromtxt(\"data/smiles_random.csv\", dtype=str, comments=None)[1:]\n",
    "print(smiles_list.shape)"
   ]
  },
  {
   "cell_type": "markdown",
   "id": "d6c5fef8-f655-4adf-ad8f-3ad06dc8287d",
   "metadata": {
    "jp-MarkdownHeadingCollapsed": true
   },
   "source": [
    "## Cluster by Tanimoto similarity on Morgan2 fingerprints"
   ]
  },
  {
   "cell_type": "code",
   "execution_count": 30,
   "id": "8062e51a-77df-4301-a466-efb0cfa6173a",
   "metadata": {},
   "outputs": [],
   "source": [
    "def butina_cluster(fingerprint_list, threshold=0.35):\n",
    "    dist_matrix = []\n",
    "    n = len(fingerprint_list)\n",
    "    for i in range(1, n):\n",
    "        sims = DataStructs.BulkTanimotoSimilarity(fingerprint_list[i], fingerprint_list[:i])\n",
    "        dist_matrix.extend([1-x for x in sims])\n",
    "    clusters = Butina.ClusterData(dist_matrix, nPts=n, distThresh=threshold, isDistData=True)\n",
    "    indices =  np.zeros((n,))\n",
    "    for idx_cls, cluster in enumerate(clusters, 1):\n",
    "        for idx in cluster:\n",
    "            indices[idx] = idx_cls\n",
    "    return indices"
   ]
  },
  {
   "cell_type": "code",
   "execution_count": 32,
   "id": "d9aac2dd-d451-4092-b36e-c50606b8927f",
   "metadata": {},
   "outputs": [
    {
     "name": "stdout",
     "output_type": "stream",
     "text": [
      "28.666009664535522\n"
     ]
    }
   ],
   "source": [
    "fingerprint_list = [rdmd.GetMorganFingerprintAsBitVect(Chem.MolFromSmiles(smiles), 2, nBits=2048) for smiles in smiles_list]\n",
    "import time\n",
    "start_time = time.time()\n",
    "clusters_fp = butina_cluster(fingerprint_list)\n",
    "print(f\"Exec time: {round(time.time() - start_time, 3)}s\")"
   ]
  },
  {
   "cell_type": "markdown",
   "id": "6f69e65d-b8dc-4b07-9778-717e501d402d",
   "metadata": {
    "jp-MarkdownHeadingCollapsed": true
   },
   "source": [
    "## Cluster by distance on embedding"
   ]
  },
  {
   "cell_type": "code",
   "execution_count": 18,
   "id": "ec121538-a134-4c60-8e67-39c531b39de9",
   "metadata": {},
   "outputs": [],
   "source": [
    "def kmeans_cluster(embedding_list, n_clusters=500, n_iter=20):\n",
    "    kmeans = faiss.Kmeans(d=vector_dimension, k=n_clusters, niter=n_iter, verbose=True)\n",
    "    kmeans.train(embedding_list)\n",
    "    distances, indices = kmeans.index.search(embedding_list, 1)\n",
    "    return indices"
   ]
  },
  {
   "cell_type": "code",
   "execution_count": 56,
   "id": "d8af255b-724b-4c84-9509-719b16d4a096",
   "metadata": {},
   "outputs": [],
   "source": [
    "def rand_index(clusters_fp, clusters_emb):\n",
    "    counts = [[0, 0], [0, 0]]\n",
    "    n = len(clusters_fp)\n",
    "    print()\n",
    "    for i in range(n):\n",
    "        print(f\"\\r{i}\", end='')\n",
    "        for j in range(i+1, n):\n",
    "            counts[int(clusters_fp[i] == clusters_fp[j])][int(clusters_emb[i] == clusters_emb[j])] += 1\n",
    "    print()\n",
    "    print(counts[0][0], counts[0][1], counts[1][0], counts[1][1])\n",
    "    rand_idx = (counts[0][0] + counts[1][1]) / np.sum(counts)\n",
    "    return rand_idx"
   ]
  },
  {
   "cell_type": "code",
   "execution_count": null,
   "id": "bad79a56-95b0-495c-b4b5-f2a39bb6892a",
   "metadata": {},
   "outputs": [],
   "source": [
    "for emb_name, dist_name, index_cls in embedding_distance:\n",
    "    with open(f\"embedding/{emb_name}_embedding.pkl\", \"rb\") as file:\n",
    "        embedding_list = pickle.load(file)\n",
    "    embedding_list = np.nan_to_num(embedding_list)\n",
    "    print(embedding_list.shape)\n",
    "\n",
    "    vector_dimension = embedding_list.shape[1]\n",
    "    index = index_cls(vector_dimension)\n",
    "    index.add(embedding_list)\n",
    "    print(f\"Added to index: {index.ntotal}\")\n",
    "\n",
    "    clusters_emb = kmeans_cluster(embedding_list, n_clusters=4100, n_iter=7)\n",
    "    rand_idx = rand_index(clusters_fp, clusters_emb)\n",
    "    print(f\"Rand index for {emb_name} - {dist_name}: {rand_idx}\")"
   ]
  },
  {
   "cell_type": "markdown",
   "id": "efba21f1-c51b-43ea-9f5b-b64e8ad14775",
   "metadata": {},
   "source": [
    "## Compare similarity search results"
   ]
  },
  {
   "cell_type": "code",
   "execution_count": 39,
   "id": "f8b449f9-5ed8-4a58-96af-9fef65250a48",
   "metadata": {},
   "outputs": [],
   "source": [
    "def get_results_fp(smiles, smiles_list):\n",
    "    fpgen = rdGen.GetMorganGenerator(radius=2, fpSize=2048)\n",
    "    query_fp = fpgen.GetFingerprint(Chem.MolFromSmiles(smiles))\n",
    "    similarities = [DataStructs.TanimotoSimilarity(fpgen.GetFingerprint(Chem.MolFromSmiles(smi)), query_fp) for smi in smiles_list]\n",
    "    distances = 1 - np.array(similarities)\n",
    "    results = np.argsort(distances)\n",
    "    return results\n",
    "\n",
    "def get_results_emb(embedding, index):\n",
    "    query_emb = np.array([embedding])\n",
    "    distances, indices = index.search(query_emb, k=index.ntotal)\n",
    "    results = indices[0]\n",
    "    return results"
   ]
  },
  {
   "cell_type": "code",
   "execution_count": 33,
   "id": "4b3a105f-2ffc-4b8a-82ac-ca895d2cb4ad",
   "metadata": {},
   "outputs": [
    {
     "name": "stdout",
     "output_type": "stream",
     "text": [
      "300\n"
     ]
    }
   ],
   "source": [
    "query_smiles_list = np.genfromtxt(\"data/smiles_query.txt\", dtype=str, delimiter='\\n', comments=None)\n",
    "print(len(query_smiles_list))"
   ]
  },
  {
   "cell_type": "code",
   "execution_count": null,
   "id": "76230c10-e0e3-4ed8-be29-2b3335f95b0d",
   "metadata": {},
   "outputs": [
    {
     "name": "stdout",
     "output_type": "stream",
     "text": [
      "(300, 512)\n",
      "(10381, 512)\n",
      "Added to index: 10381\n",
      "\n",
      "300 / 300\n",
      "1296 129.6\n",
      "cddd - euclidean: recall1=0.432\trecall2=0.432\n",
      "(300, 512)\n",
      "(10381, 512)\n",
      "Added to index: 10381\n",
      "\n",
      "80 / 300"
     ]
    }
   ],
   "source": [
    "n = 10\n",
    "for emb_name, dist_name, index_cls in embedding_distance:\n",
    "    with open(f\"embedding/{emb_name}_query_embedding.pkl\", \"rb\") as file:\n",
    "        query_embedding_list = pickle.load(file)\n",
    "    query_embedding_list = np.nan_to_num(query_embedding_list)\n",
    "    print(query_embedding_list.shape)  \n",
    "    with open(f\"embedding/{emb_name}_embedding.pkl\", \"rb\") as file:\n",
    "        embedding_list = pickle.load(file)\n",
    "    embedding_list = np.nan_to_num(embedding_list)\n",
    "    print(embedding_list.shape)\n",
    "\n",
    "    vector_dimension = embedding_list.shape[1]\n",
    "    index = index_cls(vector_dimension)\n",
    "    index.add(embedding_list)\n",
    "    print(f\"Added to index: {index.ntotal}\")\n",
    "    \n",
    "    total_common_count = 0\n",
    "    total_recall = 0\n",
    "    print()\n",
    "    i = 1\n",
    "    for query_smiles, query_emb in zip(query_smiles_list, query_embedding_list):\n",
    "        print(f\"\\r{i} / 300\", end='')\n",
    "        i += 1\n",
    "        results_emb = get_results_emb(query_emb, index)[:n]\n",
    "        results_fp = get_results_fp(query_smiles, smiles_list)[:n]\n",
    "        count = len(set(results_emb) & set(results_fp))\n",
    "        total_common_count += count\n",
    "        total_recall += count / 10\n",
    "    print()\n",
    "    print(total_common_count, total_recall)\n",
    "    print(f\"{emb_name} - {dist_name}: recall1={total_recall / len(query_smiles_list)}\\trecall2={total_common_count / (10 * len(query_smiles_list))}\")"
   ]
  },
  {
   "cell_type": "code",
   "execution_count": null,
   "id": "f216d6fe-8e79-4ce1-aa70-9ac1b321fb59",
   "metadata": {},
   "outputs": [],
   "source": []
  }
 ],
 "metadata": {
  "kernelspec": {
   "display_name": "Python 3 (ipykernel)",
   "language": "python",
   "name": "python3"
  },
  "language_info": {
   "codemirror_mode": {
    "name": "ipython",
    "version": 3
   },
   "file_extension": ".py",
   "mimetype": "text/x-python",
   "name": "python",
   "nbconvert_exporter": "python",
   "pygments_lexer": "ipython3",
   "version": "3.10.12"
  }
 },
 "nbformat": 4,
 "nbformat_minor": 5
}
