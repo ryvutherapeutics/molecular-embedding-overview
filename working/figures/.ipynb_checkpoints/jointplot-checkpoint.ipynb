{
 "cells": [
  {
   "cell_type": "code",
   "execution_count": null,
   "id": "e90ca18e-7a98-4ede-a0e6-1af27122a4fc",
   "metadata": {},
   "outputs": [],
   "source": [
    "import numpy as np\n",
    "import seaborn as sns\n",
    "import pickle\n",
    "import matplotlib.pyplot as plt"
   ]
  },
  {
   "cell_type": "code",
   "execution_count": 2,
   "id": "ad28e2f3-1446-40ac-b8c0-4796994bc4e5",
   "metadata": {},
   "outputs": [
    {
     "name": "stdout",
     "output_type": "stream",
     "text": [
      "(50000, 50000)\n"
     ]
    }
   ],
   "source": [
    "n = 5000\n",
    "with open(\"../similarity_jak2.pkl\", \"rb\") as file:\n",
    "    similarity_matrix = pickle.load(file)\n",
    "print(similarity_matrix.shape)\n",
    "similarity_matrix = 1 - similarity_matrix\n",
    "similarity_triangle = similarity_matrix[np.triu_indices(n=n, k=1)]"
   ]
  },
  {
   "cell_type": "code",
   "execution_count": 3,
   "id": "4726e293-7cbc-417b-944a-af251f1b7908",
   "metadata": {},
   "outputs": [],
   "source": [
    "def plot_distances(x_distance, y_distance, emb_name, dist_name, n_bins=50):\n",
    "    ax = sns.jointplot(\n",
    "        x=similarity_triangle, \n",
    "        y=distance_triangle, \n",
    "        marginal_kws={\"color\": \"#6ec1d0\", \"edgecolor\": \"white\", \"bins\": n_bins}, \n",
    "        color=\"#6ec1d0\",\n",
    "        kind=\"hex\",\n",
    "        bins=n_bins/2\n",
    "    )\n",
    "    \n",
    "    plt.xlabel(\"Tanimoto distance on Morgan2 fingerprints\\n\")\n",
    "    plt.ylabel(f\"{dist_name.capitalize()} distance on {emb_name} embedding\")\n",
    "    \n",
    "    plt.tight_layout()\n",
    "    plt.savefig(f\"jointplot_10000_{emb_name}_{dist_name}_jak2.png\", bbox_inches='tight')\n",
    "    plt.show()"
   ]
  },
  {
   "cell_type": "code",
   "execution_count": 4,
   "id": "34a69566-50c0-477c-b674-4cd035225d04",
   "metadata": {},
   "outputs": [],
   "source": [
    "embedding_list = [\n",
    "    (\"cddd\", \"CDDD\", \"euclidean\"),\n",
    "    (\"cddd\", \"CDDD\", \"cosine\"),\n",
    "    (\"molformer\", \"MolFormer\", \"euclidean\"),\n",
    "    (\"molformer\", \"MolFormer\", \"cosine\"),\n",
    "    (\"macaw\", \"MACAW\", \"cosine\"),\n",
    "    (\"mol2vec\", \"Mol2vec\", \"cosine\"),\n",
    "    \n",
    "]"
   ]
  },
  {
   "cell_type": "code",
   "execution_count": 5,
   "id": "6f85a45c-24da-46fd-8556-d0f820709580",
   "metadata": {},
   "outputs": [
    {
     "name": "stdout",
     "output_type": "stream",
     "text": [
      "(5000, 5000)\n"
     ]
    },
    {
     "ename": "IndexError",
     "evalue": "index 5000 is out of bounds for axis 0 with size 5000",
     "output_type": "error",
     "traceback": [
      "\u001b[0;31m---------------------------------------------------------------------------\u001b[0m",
      "\u001b[0;31mIndexError\u001b[0m                                Traceback (most recent call last)",
      "Cell \u001b[0;32mIn[5], line 6\u001b[0m\n\u001b[1;32m      4\u001b[0m \u001b[38;5;28mprint\u001b[39m(distance_matrix\u001b[38;5;241m.\u001b[39mshape)\n\u001b[1;32m      5\u001b[0m distance_matrix \u001b[38;5;241m=\u001b[39m (distance_matrix \u001b[38;5;241m-\u001b[39m np\u001b[38;5;241m.\u001b[39mmin(distance_matrix)) \u001b[38;5;241m/\u001b[39m (np\u001b[38;5;241m.\u001b[39mmax(distance_matrix) \u001b[38;5;241m-\u001b[39m np\u001b[38;5;241m.\u001b[39mmin(distance_matrix))\n\u001b[0;32m----> 6\u001b[0m distance_triangle \u001b[38;5;241m=\u001b[39m \u001b[43mdistance_matrix\u001b[49m\u001b[43m[\u001b[49m\u001b[43mnp\u001b[49m\u001b[38;5;241;43m.\u001b[39;49m\u001b[43mtriu_indices\u001b[49m\u001b[43m(\u001b[49m\u001b[43mn\u001b[49m\u001b[38;5;241;43m=\u001b[39;49m\u001b[43mn\u001b[49m\u001b[43m,\u001b[49m\u001b[43m \u001b[49m\u001b[43mk\u001b[49m\u001b[38;5;241;43m=\u001b[39;49m\u001b[38;5;241;43m1\u001b[39;49m\u001b[43m)\u001b[49m\u001b[43m]\u001b[49m\n\u001b[1;32m      7\u001b[0m plot_distances(x_distance\u001b[38;5;241m=\u001b[39msimilarity_triangle, y_distance\u001b[38;5;241m=\u001b[39mdistance_triangle, emb_name\u001b[38;5;241m=\u001b[39memb_name_repr, dist_name\u001b[38;5;241m=\u001b[39mdist_name)\n",
      "\u001b[0;31mIndexError\u001b[0m: index 5000 is out of bounds for axis 0 with size 5000"
     ]
    }
   ],
   "source": [
    "for emb_name, emb_name_repr, dist_name in embedding_list:\n",
    "    with open(f\"../distance_jak2/distance_{emb_name}_{dist_name}.pkl\", \"rb\") as file:\n",
    "        distance_matrix = pickle.load(file)\n",
    "    print(distance_matrix.shape)\n",
    "    distance_matrix = (distance_matrix - np.min(distance_matrix)) / (np.max(distance_matrix) - np.min(distance_matrix))\n",
    "    distance_triangle = distance_matrix[np.triu_indices(n=n, k=1)]\n",
    "    plot_distances(x_distance=similarity_triangle, y_distance=distance_triangle, emb_name=emb_name_repr, dist_name=dist_name)"
   ]
  },
  {
   "cell_type": "code",
   "execution_count": null,
   "id": "00f47310-8e93-48da-a3eb-f7e5e70973da",
   "metadata": {},
   "outputs": [],
   "source": []
  }
 ],
 "metadata": {
  "kernelspec": {
   "display_name": "Python 3 (ipykernel)",
   "language": "python",
   "name": "python3"
  },
  "language_info": {
   "codemirror_mode": {
    "name": "ipython",
    "version": 3
   },
   "file_extension": ".py",
   "mimetype": "text/x-python",
   "name": "python",
   "nbconvert_exporter": "python",
   "pygments_lexer": "ipython3",
   "version": "3.10.12"
  }
 },
 "nbformat": 4,
 "nbformat_minor": 5
}
