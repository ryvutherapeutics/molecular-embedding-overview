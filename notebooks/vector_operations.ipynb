{
 "cells": [
  {
   "cell_type": "code",
   "execution_count": null,
   "id": "2ee30fb7-5e06-40ab-a80e-29695a4484a3",
   "metadata": {},
   "outputs": [],
   "source": [
    "import numpy as np\n",
    "from sklearn.metrics.pairwise import pairwise_distances\n",
    "import pickle\n",
    "import faiss\n",
    "import rdkit\n",
    "from rdkit import Chem\n",
    "from rdkit.Chem import rdFingerprintGenerator as rdGen\n",
    "from rdkit import DataStructs\n",
    "from rdkit.ML.Cluster import Butina\n",
    "from rdkit.Chem import rdMolDescriptors as rdmd\n",
    "import time\n",
    "import warnings\n",
    "warnings.filterwarnings(\"ignore\")"
   ]
  },
  {
   "cell_type": "code",
   "execution_count": 17,
   "id": "9bf2967f-8b8b-453d-a093-b9a361096a49",
   "metadata": {},
   "outputs": [],
   "source": [
    "embedding_distance = [\n",
    "    (\"cddd\", \"euclidean\", faiss.IndexFlatL2),\n",
    "    (\"cddd\", \"cosine\", faiss.IndexFlatIP),\n",
    "    (\"molformer\", \"euclidean\", faiss.IndexFlatL2),\n",
    "    (\"molformer\", \"cosine\", faiss.IndexFlatIP),\n",
    "    (\"macaw\", \"cosine\", faiss.IndexFlatIP),\n",
    "    (\"mol2vec\", \"cosine\", faiss.IndexFlatIP),\n",
    "]"
   ]
  },
  {
   "cell_type": "code",
   "execution_count": null,
   "id": "e17d88be-dbb1-4a8e-956c-11bb50e1962b",
   "metadata": {},
   "outputs": [],
   "source": [
    "smiles_list = np.genfromtxt(\"data/smiles.csv\", dtype=str, comments=None)[1:]\n",
    "print(f\"Loaded SMILES: {smiles_list.shape}\")\n",
    "\n",
    "fpgen = rdGen.GetMorganGenerator(radius=2, fpSize=2048)\n",
    "fingerprint_list = [fpgen.GetFingerprint(Chem.MolFromSmiles(smiles)) for smiles in smiles_list]\n",
    "print(f\"Fingerprints generated: {len(fingerprint_list)}\")"
   ]
  },
  {
   "cell_type": "markdown",
   "id": "d6c5fef8-f655-4adf-ad8f-3ad06dc8287d",
   "metadata": {
    "jp-MarkdownHeadingCollapsed": true
   },
   "source": [
    "## Cluster by Tanimoto similarity on Morgan2 fingerprints"
   ]
  },
  {
   "cell_type": "code",
   "execution_count": null,
   "id": "8062e51a-77df-4301-a466-efb0cfa6173a",
   "metadata": {},
   "outputs": [],
   "source": [
    "def butina_cluster(fingerprint_list, threshold=0.35):\n",
    "    start_time = time.time()\n",
    "    dist_matrix = []\n",
    "    n = len(fingerprint_list)\n",
    "    for i in range(1, n):\n",
    "        sims = DataStructs.BulkTanimotoSimilarity(fingerprint_list[i], fingerprint_list[:i])\n",
    "        dist_matrix.extend([1-x for x in sims])\n",
    "    clusters = Butina.ClusterData(dist_matrix, nPts=n, distThresh=threshold, isDistData=True)\n",
    "    end_time = time.time()\n",
    "    print(f\"Time: {end_time - start_time}\")\n",
    "    indices =  np.zeros((n,))\n",
    "    for idx_cls, cluster in enumerate(clusters, 1):\n",
    "        for idx in cluster:\n",
    "            indices[idx] = idx_cls\n",
    "    return indices"
   ]
  },
  {
   "cell_type": "code",
   "execution_count": null,
   "id": "d9aac2dd-d451-4092-b36e-c50606b8927f",
   "metadata": {},
   "outputs": [],
   "source": [
    "fingerprint_list = [rdmd.GetMorganFingerprintAsBitVect(Chem.MolFromSmiles(smiles), 2, nBits=2048) for smiles in smiles_list]\n",
    "clusters_fp = butina_cluster(fingerprint_list)\n",
    "print(f\"Number of clusters: {np.max(clusters_fp)}\")"
   ]
  },
  {
   "cell_type": "markdown",
   "id": "6f69e65d-b8dc-4b07-9778-717e501d402d",
   "metadata": {
    "jp-MarkdownHeadingCollapsed": true
   },
   "source": [
    "## Cluster by distance on embedding"
   ]
  },
  {
   "cell_type": "code",
   "execution_count": 3,
   "id": "ec121538-a134-4c60-8e67-39c531b39de9",
   "metadata": {},
   "outputs": [],
   "source": [
    "def kmeans_cluster(embedding_list, n_clusters=500, n_iter=20):\n",
    "    vector_dimension = embedding_list.shape[1]\n",
    "    kmeans = faiss.Kmeans(d=vector_dimension, k=n_clusters, niter=n_iter, verbose=True)\n",
    "    kmeans.train(embedding_list)\n",
    "    distances, indices = kmeans.index.search(embedding_list, 1)\n",
    "    return indices"
   ]
  },
  {
   "cell_type": "code",
   "execution_count": null,
   "id": "d8af255b-724b-4c84-9509-719b16d4a096",
   "metadata": {},
   "outputs": [],
   "source": [
    "def rand_index(clusters_fp, clusters_emb):\n",
    "    counts = [[0, 0], [0, 0]]\n",
    "    n = len(clusters_fp)\n",
    "    for i in range(n):\n",
    "        for j in range(i+1, n):\n",
    "            counts[int(clusters_fp[i] == clusters_fp[j])][int(clusters_emb[i] == clusters_emb[j])] += 1\n",
    "    print(f\"Counts:\\nFingerprints - different cluster, embedding - different cluster: {counts[0][0]}\")\n",
    "    print(f\"Fingerprints - different cluster, embedding - same cluster: {counts[0][1]}\")\n",
    "    print(f\"Fingerprints - same cluster, embedding - different cluster: {counts[1][0]}\")\n",
    "    print(f\"Fingerprints - same cluster, embedding - same cluster: {counts[1][1]}\")\n",
    "    rand_idx = (counts[0][0] + counts[1][1]) / np.sum(counts)\n",
    "    return rand_idx"
   ]
  },
  {
   "cell_type": "code",
   "execution_count": null,
   "id": "bad79a56-95b0-495c-b4b5-f2a39bb6892a",
   "metadata": {},
   "outputs": [],
   "source": [
    "for emb_name, dist_name, index_cls in embedding_distance:\n",
    "    with open(f\"embedding/embedding_{emb_name}_{dist_name}.pkl\", \"rb\") as file:\n",
    "        embedding_list = pickle.load(file)\n",
    "    embedding_list = np.nan_to_num(embedding_list)\n",
    "    print(embedding_list.shape)\n",
    "\n",
    "    start_time = time.time()\n",
    "    vector_dimension = embedding_list.shape[1]\n",
    "    index = index_cls(vector_dimension)\n",
    "    index.add(embedding_list)\n",
    "    print(f\"Added to index: {index.ntotal}\")\n",
    "\n",
    "    clusters_emb = kmeans_cluster(embedding_list, n_clusters=100, n_iter=10)\n",
    "    end_time = time.time()\n",
    "    print(f\"Time: {end_time - start_time}\\n\")\n",
    "    rand_idx = rand_index(clusters_fp, clusters_emb)\n",
    "    print(f\"Rand index for {emb_name} - {dist_name}: {rand_idx}\")"
   ]
  },
  {
   "cell_type": "markdown",
   "id": "efba21f1-c51b-43ea-9f5b-b64e8ad14775",
   "metadata": {},
   "source": [
    "## Compare similarity search results"
   ]
  },
  {
   "cell_type": "code",
   "execution_count": null,
   "id": "f8b449f9-5ed8-4a58-96af-9fef65250a48",
   "metadata": {},
   "outputs": [],
   "source": [
    "import time\n",
    "\n",
    "def get_results_fp(smiles, smiles_list, threshold):\n",
    "    fpgen = rdGen.GetMorganGenerator(radius=2, fpSize=2048)\n",
    "    query_fp = fpgen.GetFingerprint(Chem.MolFromSmiles(smiles))\n",
    "    start_time = time.time()\n",
    "    similarities = [DataStructs.TanimotoSimilarity(fp, query_fp) for fp in fingerprint_list]\n",
    "    distances = 1 - np.array(similarities)\n",
    "    results = np.argsort(distances)\n",
    "    total_time = time.time() - start_time\n",
    "    idx = np.argmax(distances[results] > threshold)\n",
    "    return results[:idx], total_time\n",
    "\n",
    "def get_results_emb(embedding, index, threshold):\n",
    "    query_emb = np.array([embedding])\n",
    "    start_time = time.time()\n",
    "    distances, indices = index.search(query_emb, k=index.ntotal)\n",
    "    results = indices[0]\n",
    "    total_time = time.time() - start_time\n",
    "    distances = distances.flatten()\n",
    "    distances = (distances - np.min(distances)) / np.ptp(distances)\n",
    "    if distances[0] > distances[-1]:\n",
    "        distances = distances[::-1]\n",
    "        results = results[::-1]\n",
    "    idx = np.argmax(distances > threshold**2) # Results from FAISS are squared euclidean distance\n",
    "    return results[:idx], total_time"
   ]
  },
  {
   "cell_type": "code",
   "execution_count": null,
   "id": "4b3a105f-2ffc-4b8a-82ac-ca895d2cb4ad",
   "metadata": {},
   "outputs": [],
   "source": [
    "query_smiles_list = np.genfromtxt(\"data/smiles_query.csv\", dtype=str, delimiter='\\n', comments=None)[1:]\n",
    "print(len(query_smiles_list))"
   ]
  },
  {
   "cell_type": "markdown",
   "id": "bf66f6a5-d9c5-4cc7-832d-0524995e4894",
   "metadata": {},
   "source": [
    "It is assumed that embeddings are saved as *embedding_\\<emb_name\\>_\\<dist_name\\>.pkl* and embeddings of the query compounds as *embedding_\\<emb_name\\>_\\<dist_name\\>_query.pkl*."
   ]
  },
  {
   "cell_type": "code",
   "execution_count": null,
   "id": "fccfb129-e634-4f72-9f61-6313294715c6",
   "metadata": {},
   "outputs": [],
   "source": [
    "threshold = 0.15\n",
    "\n",
    "for emb_name, dist_name, index_cls in embedding_distance:\n",
    "    with open(f\"embedding/embedding_{emb_name}_{dist_name}_query.pkl\", \"rb\") as file:\n",
    "        query_embedding_list = pickle.load(file)\n",
    "    query_embedding_list = np.nan_to_num(query_embedding_list)\n",
    "    print(f\"Loaded query embeddings: {query_embedding_list.shape}\")  \n",
    "    with open(f\"embedding/embedding_{emb_name}_{dist_name}.pkl\", \"rb\") as file:\n",
    "        embedding_list = pickle.load(file)\n",
    "    embedding_list = np.nan_to_num(embedding_list)\n",
    "    print(f\"Loaded embeddings: {embedding_list.shape}\")\n",
    "\n",
    "    vector_dimension = embedding_list.shape[1]\n",
    "    index = index_cls(vector_dimension)\n",
    "    index.add(embedding_list)\n",
    "    print(f\"Added to index: {index.ntotal}\")\n",
    "    \n",
    "    total_common_count = 0\n",
    "    total_time_fp = 0\n",
    "    total_time_emb = 0\n",
    "    for query_smiles, query_emb in zip(query_smiles_list, query_embedding_list):\n",
    "        results_emb, time_emb = get_results_emb(query_emb, index, threshold)\n",
    "        total_time_emb += time_emb\n",
    "        results_fp, time_fp = get_results_fp(query_smiles, smiles_list, threshold)\n",
    "        total_time_fp += time_fp\n",
    "        try:\n",
    "            count = len((set(results_emb) & set(results_fp))) / len(set(results_fp))\n",
    "        except ZeroDivisionError:\n",
    "            count = 1\n",
    "        total_common_count += count\n",
    "    print(f\"\\nRecall {emb_name} - {dist_name}: {total_common_count / len(query_smiles_list)}\")\n",
    "    print(f\"Total time emb / fp {emb_name} - {dist_name}: {total_time_emb} / {total_time_fp}\")"
   ]
  }
 ],
 "metadata": {
  "kernelspec": {
   "display_name": "Python 3 (ipykernel)",
   "language": "python",
   "name": "python3"
  },
  "language_info": {
   "codemirror_mode": {
    "name": "ipython",
    "version": 3
   },
   "file_extension": ".py",
   "mimetype": "text/x-python",
   "name": "python",
   "nbconvert_exporter": "python",
   "pygments_lexer": "ipython3",
   "version": "3.10.12"
  }
 },
 "nbformat": 4,
 "nbformat_minor": 5
}
